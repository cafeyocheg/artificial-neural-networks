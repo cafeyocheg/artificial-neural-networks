{
 "cells": [
  {
   "cell_type": "code",
   "execution_count": 1,
   "id": "43ffcdff",
   "metadata": {},
   "outputs": [],
   "source": [
    "# hw1\n",
    "\n",
    "'''\n",
    "Исходный код к уроку 1.\n",
    "Построение двухслойной нейронной сети для классификации цветков ириса\n",
    "'''\n",
    "import numpy as np\n",
    "import pandas as pd\n",
    "import seaborn as sns\n",
    "import matplotlib.pyplot as plt\n",
    "import warnings\n",
    "warnings.simplefilter(action='ignore', category=FutureWarning)\n",
    "\n",
    "from sklearn.model_selection import train_test_split"
   ]
  },
  {
   "cell_type": "markdown",
   "id": "b26d2fbc",
   "metadata": {},
   "source": [
    "Шаг 1. Определение функций, которые понадобятся для обучения"
   ]
  },
  {
   "cell_type": "code",
   "execution_count": 2,
   "id": "53614900",
   "metadata": {},
   "outputs": [],
   "source": [
    "# преобразование массива в бинарный вид результатов\n",
    "def to_one_hot(Y):\n",
    "    n_col = np.amax(Y) + 1\n",
    "    binarized = np.zeros((len(Y), n_col))\n",
    "    for i in range(len(Y)):\n",
    "        binarized[i, Y[i]] = 1.\n",
    "    return binarized"
   ]
  },
  {
   "cell_type": "code",
   "execution_count": 3,
   "id": "44cc0da1",
   "metadata": {},
   "outputs": [],
   "source": [
    "# преобразование массива в необходимый вид\n",
    "def from_one_hot(Y):\n",
    "    arr = np.zeros((len(Y), 1))\n",
    "    \n",
    "    for i in range(len(Y)):\n",
    "        l = layer2[i]\n",
    "        for j in range(len(l)):\n",
    "            if(l[j] == 1):\n",
    "                arr[i] = j+1\n",
    "    return arr"
   ]
  },
  {
   "cell_type": "code",
   "execution_count": 4,
   "id": "8e7db720",
   "metadata": {},
   "outputs": [],
   "source": [
    "# функция активации Leaky ReLU и ее производная\n",
    "\n",
    "def leaky_relu(x):\n",
    "    return x * ((x > 0) + 0.01)\n",
    "\n",
    "def leaky_relu_deriv(x):\n",
    "    return 1 * ((x > 0) + 0.01)\n",
    "\n",
    "    \n",
    "    \n",
    "# вычисление сигмоид функции\n",
    "\n",
    "def sigmoid(x):\n",
    "     return 1 / (1 + np.exp(-x))\n",
    "    \n",
    "    \n",
    "# вычисление производной от сигмоид функции\n",
    "def sigmoid_deriv(x):\n",
    "        return sigmoid(x) * (1 - sigmoid(x))"
   ]
  },
  {
   "cell_type": "code",
   "execution_count": 5,
   "id": "bfc94b5a",
   "metadata": {},
   "outputs": [],
   "source": [
    "# нормализация массива\n",
    "def normalize(X, axis=-1, order=2):\n",
    "    l2 = np.atleast_1d(np.linalg.norm(X, order, axis))\n",
    "    l2[l2 == 0] = 1\n",
    "    return X / np.expand_dims(l2, axis)\n"
   ]
  },
  {
   "cell_type": "markdown",
   "id": "76989469",
   "metadata": {},
   "source": [
    "Шаг 2. Подготовка тренировочных данных"
   ]
  },
  {
   "cell_type": "code",
   "execution_count": 6,
   "id": "de46c2fe",
   "metadata": {},
   "outputs": [
    {
     "data": {
      "text/plain": [
       "Iris-setosa        50\n",
       "Iris-versicolor    50\n",
       "Iris-virginica     50\n",
       "Name: Species, dtype: int64"
      ]
     },
     "execution_count": 6,
     "metadata": {},
     "output_type": "execute_result"
    }
   ],
   "source": [
    "# получения данных из csv файла\n",
    "iris_data = pd.read_csv(\"Iris.csv\")\n",
    "iris_data['Species'].value_counts()"
   ]
  },
  {
   "cell_type": "code",
   "execution_count": 7,
   "id": "ad438669",
   "metadata": {},
   "outputs": [],
   "source": [
    "## репрезентация данных в виде графиков\n",
    "#g = sns.pairplot(iris_data.drop(\"Id\", axis=1), hue=\"Species\")\n",
    "#plt.show()"
   ]
  },
  {
   "cell_type": "code",
   "execution_count": 8,
   "id": "1c5011c9",
   "metadata": {},
   "outputs": [],
   "source": [
    "# замена текстовых значений на цифровые\n",
    "iris_data['Species'].replace(['Iris-setosa', 'Iris-virginica', 'Iris-versicolor'], [0, 1, 2], inplace=True)"
   ]
  },
  {
   "cell_type": "code",
   "execution_count": 9,
   "id": "170cfd46",
   "metadata": {},
   "outputs": [],
   "source": [
    "# формирование входных данных\n",
    "columns = ['SepalLengthCm', 'SepalWidthCm', 'PetalLengthCm', 'PetalWidthCm']\n",
    "x = pd.DataFrame(iris_data, columns=columns)\n",
    "x = normalize(x.values)"
   ]
  },
  {
   "cell_type": "code",
   "execution_count": 10,
   "id": "03b65574",
   "metadata": {},
   "outputs": [],
   "source": [
    "# формирование выходных данных (результатов)\n",
    "columns = ['Species']\n",
    "y = pd.DataFrame(iris_data, columns=columns)\n",
    "y = y.values\n",
    "y = y.flatten()\n",
    "y = to_one_hot(y)"
   ]
  },
  {
   "cell_type": "code",
   "execution_count": 11,
   "id": "a6de7b38",
   "metadata": {},
   "outputs": [],
   "source": [
    "# Разделение данных на тренировочные и тестовые\n",
    "X_train, X_test, y_train, y_test = train_test_split(x, y, test_size=0.33)"
   ]
  },
  {
   "cell_type": "markdown",
   "id": "a3c534d8",
   "metadata": {},
   "source": [
    "Шаг 3. Обученние нейронной сети"
   ]
  },
  {
   "cell_type": "code",
   "execution_count": 12,
   "id": "12cc27e8",
   "metadata": {},
   "outputs": [],
   "source": [
    "import random\n",
    "random.seed(197)\n",
    "\n",
    "# присваивание случайных весов\n",
    "w0 = 2*np.random.random((4, 5)) - 1 # для входного слоя - 4 входа, 3 выхода\n",
    "w1 = 2*np.random.random((5, 3)) - 1 # для внутреннего слоя - 5 входов, 3 выхода\n",
    "\n",
    "# скорость обучения (learning rate)\n",
    "n = 0.0005\n",
    "\n",
    "# массив для ошибок, чтобы потом построить график\n",
    "errors = []\n",
    "\n",
    "max_iterations = 50000\n",
    "\n",
    "# процесс обучения\n",
    "for i in range(max_iterations):\n",
    "    # прямое распространение(feed forward)\n",
    "    layer0 = X_train\n",
    "    \n",
    "    layer1 = leaky_relu(np.dot(layer0, w0))\n",
    "    layer2 = leaky_relu(np.dot(layer1, w1))\n",
    "    \n",
    "    layer2_error = y_train - layer2\n",
    "    layer2_delta = layer2_error * leaky_relu_deriv(layer2)\n",
    "    \n",
    "    layer1_error = layer2_delta.dot(w1.T)\n",
    "    layer1_delta = layer1_error * leaky_relu_deriv(layer1)\n",
    "    \n",
    "    w1 += layer1.T.dot(layer2_delta) * n\n",
    "    w0 += layer0.T.dot(layer1_delta) * n\n",
    "    \n",
    "    error = np.mean(np.abs(layer2_error))\n",
    "    errors.append(error)\n",
    "    accuracy = (1 - error) * 100\n"
   ]
  },
  {
   "cell_type": "code",
   "execution_count": 13,
   "id": "b62acd05",
   "metadata": {
    "scrolled": true
   },
   "outputs": [
    {
     "data": {
      "image/png": "[encoded data removed]",
      "text/plain": [
       "<Figure size 432x288 with 1 Axes>"
      ]
     },
     "metadata": {
      "needs_background": "light"
     },
     "output_type": "display_data"
    },
    {
     "name": "stdout",
     "output_type": "stream",
     "text": [
      "Точность нейронной сети 94.39%\n"
     ]
    }
   ],
   "source": [
    "# диаграмма точности в зависимости от обучения\n",
    "plt.plot(errors)\n",
    "plt.xlabel('Обучение')\n",
    "plt.ylabel('Ошибка')\n",
    "plt.show()\n",
    "\n",
    "print(\"Точность нейронной сети \" + str(round(accuracy,2)) + \"%\")"
   ]
  },
  {
   "cell_type": "code",
   "execution_count": 14,
   "id": "f09f8be9",
   "metadata": {},
   "outputs": [
    {
     "data": {
      "text/plain": [
       "0.05606311365737895"
      ]
     },
     "execution_count": 14,
     "metadata": {},
     "output_type": "execute_result"
    }
   ],
   "source": [
    "errors[-1]"
   ]
  },
  {
   "cell_type": "markdown",
   "id": "e6b79084",
   "metadata": {},
   "source": [
    "КАК УЛУЧШИТЬ МЕТРИКУ\n",
    "\n",
    "Мой способ: \n",
    "\n",
    "Заменил функцию активации с сигмоиды на Leaky ReLU.\n",
    "\n",
    "По результатам подобрал скорость и количество итераций."
   ]
  }
 ],
 "metadata": {
  "kernelspec": {
   "display_name": "Python 3 (ipykernel)",
   "language": "python",
   "name": "python3"
  },
  "language_info": {
   "codemirror_mode": {
    "name": "ipython",
    "version": 3
   },
   "file_extension": ".py",
   "mimetype": "text/x-python",
   "name": "python",
   "nbconvert_exporter": "python",
   "pygments_lexer": "ipython3",
   "version": "3.9.7"
  }
 },
 "nbformat": 4,
 "nbformat_minor": 5
}
