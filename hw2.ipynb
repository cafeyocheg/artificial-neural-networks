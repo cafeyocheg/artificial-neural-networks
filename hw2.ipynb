{
 "cells": [
  {
   "cell_type": "code",
   "execution_count": 1,
   "id": "8d8b1f09",
   "metadata": {},
   "outputs": [],
   "source": [
    "# !pip install tensorflow"
   ]
  },
  {
   "cell_type": "code",
   "execution_count": 2,
   "id": "5cf7a02f",
   "metadata": {
    "scrolled": false
   },
   "outputs": [],
   "source": [
    "import numpy as np\n",
    "import mnist\n",
    "\n",
    "from tensorflow import keras\n",
    "from keras.models import Sequential\n",
    "from keras.layers import Dense\n",
    "#from keras.utils import to_categorical\n",
    "from tensorflow.keras.utils import to_categorical"
   ]
  },
  {
   "cell_type": "code",
   "execution_count": 3,
   "id": "a158ce24",
   "metadata": {
    "scrolled": true
   },
   "outputs": [],
   "source": [
    "train_images = mnist.train_images()\n",
    "train_labels = mnist.train_labels()\n",
    "test_images = mnist.test_images()\n",
    "test_labels = mnist.test_labels()"
   ]
  },
  {
   "cell_type": "code",
   "execution_count": 4,
   "id": "a0d764e4",
   "metadata": {},
   "outputs": [],
   "source": [
    "# Нормализация изображений\n",
    "train_images = (train_images / 255) - 0.5\n",
    "test_images = (test_images / 255) - 0.5"
   ]
  },
  {
   "cell_type": "code",
   "execution_count": 5,
   "id": "45673c5c",
   "metadata": {},
   "outputs": [],
   "source": [
    "# в вектор длиной 784\n",
    "train_images = train_images.reshape((-1, 784))\n",
    "test_images = test_images.reshape((-1, 784))"
   ]
  },
  {
   "cell_type": "code",
   "execution_count": 6,
   "id": "cca63313",
   "metadata": {},
   "outputs": [],
   "source": [
    "# создание модели\n",
    "model = Sequential([\n",
    "  Dense(64, activation='elu', input_shape=(784,)),  \n",
    "  Dense(64, activation='elu'),\n",
    "  Dense(10, activation='sigmoid'),\n",
    "])"
   ]
  },
  {
   "cell_type": "code",
   "execution_count": 7,
   "id": "cfd1b035",
   "metadata": {},
   "outputs": [],
   "source": [
    "# компиляция модели\n",
    "model.compile(\n",
    "  optimizer='nadam',\n",
    "  loss='categorical_crossentropy',\n",
    "  metrics=['accuracy'],\n",
    ")"
   ]
  },
  {
   "cell_type": "code",
   "execution_count": 8,
   "id": "b55e172f",
   "metadata": {},
   "outputs": [
    {
     "name": "stdout",
     "output_type": "stream",
     "text": [
      "Epoch 1/25\n",
      "2000/2000 [==============================] - 4s 1ms/step - loss: 0.3129 - accuracy: 0.9053\n",
      "Epoch 2/25\n",
      "2000/2000 [==============================] - 3s 2ms/step - loss: 0.1526 - accuracy: 0.9542\n",
      "Epoch 3/25\n",
      "2000/2000 [==============================] - 3s 2ms/step - loss: 0.1143 - accuracy: 0.9643\n",
      "Epoch 4/25\n",
      "2000/2000 [==============================] - 3s 2ms/step - loss: 0.0923 - accuracy: 0.9710\n",
      "Epoch 5/25\n",
      "2000/2000 [==============================] - 3s 2ms/step - loss: 0.0808 - accuracy: 0.9742\n",
      "Epoch 6/25\n",
      "2000/2000 [==============================] - 3s 2ms/step - loss: 0.0724 - accuracy: 0.9774\n",
      "Epoch 7/25\n",
      "2000/2000 [==============================] - 3s 2ms/step - loss: 0.0653 - accuracy: 0.9790\n",
      "Epoch 8/25\n",
      "2000/2000 [==============================] - 3s 2ms/step - loss: 0.0567 - accuracy: 0.9813\n",
      "Epoch 9/25\n",
      "2000/2000 [==============================] - 3s 2ms/step - loss: 0.0544 - accuracy: 0.9823\n",
      "Epoch 10/25\n",
      "2000/2000 [==============================] - 3s 1ms/step - loss: 0.0480 - accuracy: 0.9842\n",
      "Epoch 11/25\n",
      "2000/2000 [==============================] - 3s 2ms/step - loss: 0.0458 - accuracy: 0.9851\n",
      "Epoch 12/25\n",
      "2000/2000 [==============================] - 3s 2ms/step - loss: 0.0413 - accuracy: 0.9862\n",
      "Epoch 13/25\n",
      "2000/2000 [==============================] - 3s 2ms/step - loss: 0.0379 - accuracy: 0.9876\n",
      "Epoch 14/25\n",
      "2000/2000 [==============================] - 3s 2ms/step - loss: 0.0378 - accuracy: 0.9870\n",
      "Epoch 15/25\n",
      "2000/2000 [==============================] - 3s 2ms/step - loss: 0.0360 - accuracy: 0.9876\n",
      "Epoch 16/25\n",
      "2000/2000 [==============================] - 3s 2ms/step - loss: 0.0321 - accuracy: 0.9889\n",
      "Epoch 17/25\n",
      "2000/2000 [==============================] - 3s 2ms/step - loss: 0.0303 - accuracy: 0.9896\n",
      "Epoch 18/25\n",
      "2000/2000 [==============================] - 3s 2ms/step - loss: 0.0305 - accuracy: 0.9893\n",
      "Epoch 19/25\n",
      "2000/2000 [==============================] - 3s 2ms/step - loss: 0.0281 - accuracy: 0.9905\n",
      "Epoch 20/25\n",
      "2000/2000 [==============================] - 3s 2ms/step - loss: 0.0266 - accuracy: 0.9909\n",
      "Epoch 21/25\n",
      "2000/2000 [==============================] - 3s 2ms/step - loss: 0.0258 - accuracy: 0.9910\n",
      "Epoch 22/25\n",
      "2000/2000 [==============================] - 3s 2ms/step - loss: 0.0255 - accuracy: 0.9911\n",
      "Epoch 23/25\n",
      "2000/2000 [==============================] - 3s 2ms/step - loss: 0.0253 - accuracy: 0.9914\n",
      "Epoch 24/25\n",
      "2000/2000 [==============================] - 3s 2ms/step - loss: 0.0225 - accuracy: 0.9923\n",
      "Epoch 25/25\n",
      "2000/2000 [==============================] - 3s 2ms/step - loss: 0.0258 - accuracy: 0.9912\n"
     ]
    },
    {
     "data": {
      "text/plain": [
       "<keras.callbacks.History at 0x268c0997e50>"
      ]
     },
     "execution_count": 8,
     "metadata": {},
     "output_type": "execute_result"
    }
   ],
   "source": [
    "# обучение модели\n",
    "model.fit(\n",
    "  train_images,\n",
    "  to_categorical(train_labels),\n",
    "  epochs=25,\n",
    "  batch_size=30,\n",
    ")"
   ]
  },
  {
   "cell_type": "code",
   "execution_count": 9,
   "id": "9afb76b4",
   "metadata": {},
   "outputs": [
    {
     "name": "stdout",
     "output_type": "stream",
     "text": [
      "313/313 [==============================] - 0s 1ms/step - loss: 0.1133 - accuracy: 0.9727\n"
     ]
    },
    {
     "data": {
      "text/plain": [
       "[0.11330216377973557, 0.9726999998092651]"
      ]
     },
     "execution_count": 9,
     "metadata": {},
     "output_type": "execute_result"
    }
   ],
   "source": [
    "# оценка модели\n",
    "model.evaluate(\n",
    "  test_images,\n",
    "  to_categorical(test_labels)\n",
    ")"
   ]
  },
  {
   "cell_type": "code",
   "execution_count": 10,
   "id": "d85a1ccf",
   "metadata": {},
   "outputs": [],
   "source": [
    "# сохранение модели\n",
    "model.save_weights('model.h5')\n",
    "\n",
    "# Load the model from disk later using:\n",
    "# model.load_weights('model.h5')"
   ]
  },
  {
   "cell_type": "code",
   "execution_count": 20,
   "id": "fbf39ab4",
   "metadata": {},
   "outputs": [
    {
     "name": "stdout",
     "output_type": "stream",
     "text": [
      "1/1 [==============================] - 0s 19ms/step\n"
     ]
    }
   ],
   "source": [
    "# прогноз на первых 50 изображениях\n",
    "predictions = model.predict(test_images[:25])"
   ]
  },
  {
   "cell_type": "code",
   "execution_count": 21,
   "id": "0dec2710",
   "metadata": {},
   "outputs": [
    {
     "name": "stdout",
     "output_type": "stream",
     "text": [
      "[7 2 1 0 4 1 4 9 6 9 0 6 9 0 1 5 9 7 3 4 9 6 6 5 4]\n"
     ]
    }
   ],
   "source": [
    "# вывод предсказаний\n",
    "print(np.argmax(predictions, axis=1))"
   ]
  },
  {
   "cell_type": "code",
   "execution_count": 22,
   "id": "0d39ad66",
   "metadata": {},
   "outputs": [
    {
     "name": "stdout",
     "output_type": "stream",
     "text": [
      "[7 2 1 0 4 1 4 9 5 9 0 6 9 0 1 5 9 7 3 4 9 6 6 5 4]\n"
     ]
    }
   ],
   "source": [
    "# правильные ответы\n",
    "print(test_labels[:25])"
   ]
  },
  {
   "cell_type": "code",
   "execution_count": 23,
   "id": "187e7a66",
   "metadata": {},
   "outputs": [
    {
     "name": "stdout",
     "output_type": "stream",
     "text": [
      "1/1 [==============================] - 0s 18ms/step\n",
      "[7 2 1 0 4 1 4 9 6 9 0 6 9 0 1 5 9 7 3 4 9 6 6 5 4]\n",
      "[7 2 1 0 4 1 4 9 5 9 0 6 9 0 1 5 9 7 3 4 9 6 6 5 4]\n"
     ]
    }
   ],
   "source": [
    "predictions = model.predict(test_images[:25])\n",
    "print(np.argmax(predictions, axis=1))\n",
    "\n",
    "print(test_labels[:25])"
   ]
  },
  {
   "cell_type": "markdown",
   "id": "2e6aaca3",
   "metadata": {},
   "source": [
    "======================================================================================================================== \n",
    "\n",
    "Что я, собственно, делал, помимо (Ctrl+C)+(Ctrl+V):\n",
    "\n",
    "**1. ОПТИМИЗАТОРЫ**\n",
    "\n",
    "$А. Adam:$ \n",
    "\n",
    "Epoch 1/5\n",
    "1875/1875 [==============================] - 10s 5ms/step - loss: 0.3522 - accuracy: 0.8943\n",
    "\n",
    "Epoch 5/5\n",
    "1875/1875 [==============================] - 9s 5ms/step - loss: 0.1019 - accuracy: 0.9676\n",
    "\n",
    "\n",
    "$B. RMSprop:$ \n",
    "\n",
    "Epoch 1/5\n",
    "1875/1875 [==============================] - 10s 5ms/step - loss: 0.3635 - accuracy: 0.8885\n",
    " \n",
    "Epoch 5/5\n",
    "1875/1875 [==============================] - 9s 5ms/step - loss: 0.1130 - accuracy: 0.9664\n",
    "\n",
    "$C. Nadam:$\n",
    "\n",
    "Epoch 1/5\n",
    "1875/1875 [==============================] - 12s 5ms/step - loss: 0.3403 - accuracy: 0.8981\n",
    "\n",
    "Epoch 5/5\n",
    "1875/1875 [==============================] - 9s 5ms/step - loss: 0.0973 - accuracy: 0.9701\n",
    "\n",
    "$D. SGD$\n",
    "\n",
    "Epoch 1/5\n",
    "1875/1875 [==============================] - 9s 4ms/step - loss: 0.6682 - accuracy: 0.8200\n",
    "\n",
    "Epoch 5/5\n",
    "1875/1875 [==============================] - 9s 5ms/step - loss: 0.2135 - accuracy: 0.9378\n",
    "\n",
    "$E.Ftrl$\n",
    "\n",
    "Epoch 1/5\n",
    "1875/1875 [==============================] - 10s 5ms/step - loss: 2.3024 - accuracy: 0.1121\n",
    "\n",
    "Epoch 5/5\n",
    "1875/1875 [==============================] - 10s 5ms/step - loss: 2.3019 - accuracy: 0.1124\n",
    "\n",
    "\n",
    "**ВЫВОДЫ:**\n",
    "\n",
    "Хоть и провел анализ оптимизаторов по офф документации $Keras$, я еще недостаточно зрел, чтобы полностью понять их механику.\n",
    "\n",
    "Не уверен, что в случае нейросетей исследователи прям сражаются за (0.9701 - 0.9676) точности, но в конкретном случае $Nadam$ выигрышнее смотрится. \n",
    "\n",
    "$Ftrl$ вообще не туда. Видимо шаг стоит увеличить, раз он не выбрался из локального минимума, но я не могу с точностью утверждать.\n",
    "Более разреженных данных требует, видимо. Зато он гениально нашел здесь единицу: [7 2 1 0 4] => [1 1 1 1 1].\n",
    "\n",
    "Ладно, идем дальше."
   ]
  },
  {
   "cell_type": "markdown",
   "id": "4b3529c2",
   "metadata": {},
   "source": [
    "**2. АКТИВАЦИЯ**\n",
    "\n",
    "Далее я решил играться с функциями активации. Здесь нейросетка превратилась в еще более черный ящик. Подбираем комбинации опытным путем.\n",
    "\n",
    "Полностью relu: 0.0912\n",
    "\n",
    "Полностью softmax: 0.7132\n",
    "\n",
    "Полностью sigmoid: 0.9673\n",
    "\n",
    "sigmoid-reLU-softmax: 0.9694\n",
    "\n",
    "elu-relu-sigmoid: 0.9742\n",
    "\n",
    "elu-elu-sigmoid: 0.9748\n",
    "\n",
    "\n",
    "**ВЫВОДЫ:**\n",
    "\n",
    "Я только понял, что на выходном слое должна быть softmax или sigmoid, раз мы просчитываем вероятность. Первые два слоя - пальцем в небо."
   ]
  },
  {
   "cell_type": "markdown",
   "id": "f990e892",
   "metadata": {},
   "source": [
    "**3. БАТЧИ**\n",
    "\n",
    "Размер батча в разумных пределах существенно на метрику не влияет. \n",
    "\n",
    "Да, батчей должно быть достаточно для качества обучения.\n",
    "\n",
    "batch_size=300  ===>  $0.9574$\n",
    "\n",
    "batch_size=20   ===>  $0.9744$\n",
    "\n",
    "Ну и не слишком много, чтобы не тратить времени впустую.\n",
    "\n",
    "batch_size=5   ===> 81s - accuracy: 0.9700\n",
    "\n",
    "batch_size=30  ===> 16s - accuracy: 0.9751"
   ]
  },
  {
   "cell_type": "markdown",
   "id": "df1e0ebf",
   "metadata": {},
   "source": [
    "**4. ЭПОХИ**\n",
    "\n",
    "epochs=5, accuracy: 0.9751\n",
    "\n",
    "epochs=7, accuracy: 0.9785\n",
    "\n",
    "epochs=10, accuracy: 0.9845\n",
    "\n",
    "epochs=20, accuracy: 0.9907\n",
    "\n",
    "Рост замедляется до прямой около 0.99, график точности от эпох легко представить."
   ]
  },
  {
   "cell_type": "markdown",
   "id": "4154afd8",
   "metadata": {},
   "source": [
    "На этом я закончу. В принципе, для повышения точности увеличить количество эпох было бы достаточно."
   ]
  }
 ],
 "metadata": {
  "kernelspec": {
   "display_name": "Python 3 (ipykernel)",
   "language": "python",
   "name": "python3"
  },
  "language_info": {
   "codemirror_mode": {
    "name": "ipython",
    "version": 3
   },
   "file_extension": ".py",
   "mimetype": "text/x-python",
   "name": "python",
   "nbconvert_exporter": "python",
   "pygments_lexer": "ipython3",
   "version": "3.9.7"
  }
 },
 "nbformat": 4,
 "nbformat_minor": 5
}
