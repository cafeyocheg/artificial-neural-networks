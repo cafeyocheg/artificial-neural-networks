{
 "cells": [
  {
   "cell_type": "code",
   "execution_count": 1,
   "id": "8d8b1f09",
   "metadata": {},
   "outputs": [],
   "source": [
    "# !pip install tensorflow"
   ]
  },
  {
   "cell_type": "code",
   "execution_count": 2,
   "id": "5cf7a02f",
   "metadata": {
    "scrolled": false
   },
   "outputs": [],
   "source": [
    "import numpy as np\n",
    "import mnist\n",
    "\n",
    "from tensorflow import keras\n",
    "from keras.models import Sequential\n",
    "from keras.layers import Dense\n",
    "#from keras.utils import to_categorical\n",
    "from tensorflow.keras.utils import to_categorical"
   ]
  },
  {
   "cell_type": "code",
   "execution_count": 3,
   "id": "a158ce24",
   "metadata": {
    "scrolled": true
   },
   "outputs": [],
   "source": [
    "train_images = mnist.train_images()\n",
    "train_labels = mnist.train_labels()\n",
    "test_images = mnist.test_images()\n",
    "test_labels = mnist.test_labels()"
   ]
  },
  {
   "cell_type": "code",
   "execution_count": 4,
   "id": "a0d764e4",
   "metadata": {},
   "outputs": [],
   "source": [
    "# Нормализация изображений\n",
    "train_images = (train_images / 255) - 0.5\n",
    "test_images = (test_images / 255) - 0.5"
   ]
  },
  {
   "cell_type": "code",
   "execution_count": 5,
   "id": "45673c5c",
   "metadata": {},
   "outputs": [],
   "source": [
    "# в вектор длиной 784\n",
    "train_images = train_images.reshape((-1, 784))\n",
    "test_images = test_images.reshape((-1, 784))"
   ]
  },
  {
   "cell_type": "code",
   "execution_count": 6,
   "id": "cca63313",
   "metadata": {},
   "outputs": [],
   "source": [
    "# создание модели\n",
    "model = Sequential([\n",
    "  Dense(64, activation='elu', input_shape=(784,)),  \n",
    "  Dense(64, activation='elu'),\n",
    "  Dense(10, activation='sigmoid'),\n",
    "])"
   ]
  },
  {
   "cell_type": "code",
   "execution_count": 7,
   "id": "cfd1b035",
   "metadata": {},
   "outputs": [],
   "source": [
    "# компиляция модели\n",
    "model.compile(\n",
    "  optimizer='nadam',\n",
    "  loss='categorical_crossentropy',\n",
    "  metrics=['accuracy'],\n",
    ")"
   ]
  },
  {
   "cell_type": "code",
   "execution_count": 8,
   "id": "b55e172f",
   "metadata": {},
   "outputs": [
    {
     "name": "stdout",
     "output_type": "stream",
     "text": [
      "Epoch 1/25\n",
      "2000/2000 [==============================] - 11s 5ms/step - loss: 0.3216 - accuracy: 0.9031\n",
      "Epoch 2/25\n",
      "2000/2000 [==============================] - 10s 5ms/step - loss: 0.1534 - accuracy: 0.9530\n",
      "Epoch 3/25\n",
      "2000/2000 [==============================] - 10s 5ms/step - loss: 0.1156 - accuracy: 0.9641\n",
      "Epoch 4/25\n",
      "2000/2000 [==============================] - 10s 5ms/step - loss: 0.0946 - accuracy: 0.9707\n",
      "Epoch 5/25\n",
      "2000/2000 [==============================] - 10s 5ms/step - loss: 0.0812 - accuracy: 0.9744\n",
      "Epoch 6/25\n",
      "2000/2000 [==============================] - 10s 5ms/step - loss: 0.0723 - accuracy: 0.9771\n",
      "Epoch 7/25\n",
      "2000/2000 [==============================] - 10s 5ms/step - loss: 0.0627 - accuracy: 0.9797\n",
      "Epoch 8/25\n",
      "2000/2000 [==============================] - 10s 5ms/step - loss: 0.0561 - accuracy: 0.9823\n",
      "Epoch 9/25\n",
      "2000/2000 [==============================] - 10s 5ms/step - loss: 0.0520 - accuracy: 0.9834\n",
      "Epoch 10/25\n",
      "2000/2000 [==============================] - 10s 5ms/step - loss: 0.0492 - accuracy: 0.9837\n",
      "Epoch 11/25\n",
      "2000/2000 [==============================] - 10s 5ms/step - loss: 0.0420 - accuracy: 0.9859\n",
      "Epoch 12/25\n",
      "2000/2000 [==============================] - 10s 5ms/step - loss: 0.0419 - accuracy: 0.9854\n",
      "Epoch 13/25\n",
      "2000/2000 [==============================] - 10s 5ms/step - loss: 0.0390 - accuracy: 0.9869\n",
      "Epoch 14/25\n",
      "2000/2000 [==============================] - 10s 5ms/step - loss: 0.0367 - accuracy: 0.9877\n",
      "Epoch 15/25\n",
      "2000/2000 [==============================] - 10s 5ms/step - loss: 0.0352 - accuracy: 0.9879\n",
      "Epoch 16/25\n",
      "2000/2000 [==============================] - 10s 5ms/step - loss: 0.0325 - accuracy: 0.9885\n",
      "Epoch 17/25\n",
      "2000/2000 [==============================] - 10s 5ms/step - loss: 0.0305 - accuracy: 0.9896\n",
      "Epoch 18/25\n",
      "2000/2000 [==============================] - 10s 5ms/step - loss: 0.0300 - accuracy: 0.9899\n",
      "Epoch 19/25\n",
      "2000/2000 [==============================] - 10s 5ms/step - loss: 0.0278 - accuracy: 0.9905\n",
      "Epoch 20/25\n",
      "2000/2000 [==============================] - 10s 5ms/step - loss: 0.0281 - accuracy: 0.9905\n",
      "Epoch 21/25\n",
      "2000/2000 [==============================] - 10s 5ms/step - loss: 0.0249 - accuracy: 0.9919\n",
      "Epoch 22/25\n",
      "2000/2000 [==============================] - 10s 5ms/step - loss: 0.0273 - accuracy: 0.9906\n",
      "Epoch 23/25\n",
      "2000/2000 [==============================] - 10s 5ms/step - loss: 0.0216 - accuracy: 0.9925\n",
      "Epoch 24/25\n",
      "2000/2000 [==============================] - 10s 5ms/step - loss: 0.0251 - accuracy: 0.9914\n",
      "Epoch 25/25\n",
      "2000/2000 [==============================] - 10s 5ms/step - loss: 0.0238 - accuracy: 0.9918\n"
     ]
    },
    {
     "data": {
      "text/plain": [
       "<keras.callbacks.History at 0x1fd00088e80>"
      ]
     },
     "execution_count": 8,
     "metadata": {},
     "output_type": "execute_result"
    }
   ],
   "source": [
    "# обучение модели\n",
    "model.fit(\n",
    "  train_images,\n",
    "  to_categorical(train_labels),\n",
    "  epochs=25,\n",
    "  batch_size=30,\n",
    ")"
   ]
  },
  {
   "cell_type": "code",
   "execution_count": 9,
   "id": "9afb76b4",
   "metadata": {},
   "outputs": [
    {
     "name": "stdout",
     "output_type": "stream",
     "text": [
      "313/313 [==============================] - 2s 4ms/step - loss: 0.1284 - accuracy: 0.9746\n"
     ]
    },
    {
     "data": {
      "text/plain": [
       "[0.12839962542057037, 0.9746000170707703]"
      ]
     },
     "execution_count": 9,
     "metadata": {},
     "output_type": "execute_result"
    }
   ],
   "source": [
    "# оценка модели\n",
    "model.evaluate(\n",
    "  test_images,\n",
    "  to_categorical(test_labels)\n",
    ")"
   ]
  },
  {
   "cell_type": "code",
   "execution_count": 10,
   "id": "d85a1ccf",
   "metadata": {},
   "outputs": [],
   "source": [
    "# сохранение модели\n",
    "model.save_weights('model.h5')\n",
    "\n",
    "# Load the model from disk later using:\n",
    "# model.load_weights('model.h5')"
   ]
  },
  {
   "cell_type": "code",
   "execution_count": 11,
   "id": "fbf39ab4",
   "metadata": {},
   "outputs": [
    {
     "name": "stdout",
     "output_type": "stream",
     "text": [
      "1/1 [==============================] - 0s 173ms/step\n"
     ]
    }
   ],
   "source": [
    "# прогноз на первых 20 изображениях\n",
    "predictions = model.predict(test_images[:20])"
   ]
  },
  {
   "cell_type": "code",
   "execution_count": 12,
   "id": "0dec2710",
   "metadata": {},
   "outputs": [
    {
     "name": "stdout",
     "output_type": "stream",
     "text": [
      "[7 2 1 0 4 1 4 9 5 9 0 6 9 0 1 5 9 7 3 4]\n"
     ]
    }
   ],
   "source": [
    "# вывод предсказаний\n",
    "print(np.argmax(predictions, axis=1))"
   ]
  },
  {
   "cell_type": "code",
   "execution_count": 13,
   "id": "0d39ad66",
   "metadata": {},
   "outputs": [
    {
     "name": "stdout",
     "output_type": "stream",
     "text": [
      "[7 2 1 0 4 1 4 9 5 9 0 6 9 0 1 5 9 7 3 4]\n"
     ]
    }
   ],
   "source": [
    "# правильные ответы\n",
    "print(test_labels[:20])"
   ]
  },
  {
   "cell_type": "code",
   "execution_count": 14,
   "id": "187e7a66",
   "metadata": {},
   "outputs": [
    {
     "name": "stdout",
     "output_type": "stream",
     "text": [
      "1/1 [==============================] - 0s 40ms/step\n",
      "[7 2 1 0 4 1 4 9 5 9 0 6 9 0 1 5 9 7 3 4]\n",
      "[7 2 1 0 4 1 4 9 5 9 0 6 9 0 1 5 9 7 3 4]\n"
     ]
    }
   ],
   "source": [
    "predictions = model.predict(test_images[:20])\n",
    "print(np.argmax(predictions, axis=1))\n",
    "\n",
    "print(test_labels[:20])"
   ]
  },
  {
   "cell_type": "markdown",
   "id": "2e6aaca3",
   "metadata": {},
   "source": [
    "======================================================================================================================== \n",
    "\n",
    "Что я, собственно, делал, помимо (Ctrl+C)+(Ctrl+V):\n",
    "\n",
    "**1. ОПТИМИЗАТОРЫ**\n",
    "\n",
    "$А. Adam:$ \n",
    "\n",
    "Epoch 5/5\n",
    "2000/2000 [==============================] - 10s 5ms/step - loss: 0.0844 - accuracy: $0.9732$\n",
    "\n",
    "313/313 [==============================] - 2s 4ms/step - loss: 0.0897 - accuracy: $0.9718$\n",
    "\n",
    "$B. RMSprop:$ \n",
    " \n",
    "Epoch 5/5\n",
    "2000/2000 [==============================] - 10s 5ms/step - loss: 0.0897 - accuracy: 0.9727\n",
    "\n",
    "313/313 [==============================] - 2s 4ms/step - loss: 0.1165 - accuracy: 0.9658\n",
    "\n",
    "$C. Nadam:$\n",
    "\n",
    "Epoch 5/5\n",
    "2000/2000 [==============================] - 10s 5ms/step - loss: 0.0808 - accuracy: $0.9741$\n",
    "\n",
    "313/313 [==============================] - 2s 4ms/step - loss: 0.0964 - accuracy: $0.9714$\n",
    "\n",
    "$D. SGD$\n",
    "\n",
    "Epoch 5/5\n",
    "2000/2000 [==============================] - 9s 5ms/step - loss: 0.2330 - accuracy: 0.9319\n",
    "\n",
    "313/313 [==============================] - 2s 4ms/step - loss: 0.2185 - accuracy: 0.9343\n",
    "\n",
    "$E.Ftrl$\n",
    "\n",
    "Epoch 5/5\n",
    "2000/2000 [==============================] - 11s 6ms/step - loss: 2.3019 - accuracy: 0.1124\n",
    "\n",
    "313/313 [==============================] - 2s 4ms/step - loss: 2.3019 - accuracy: 0.1135\n",
    "\n",
    "**ВЫВОДЫ:**\n",
    "\n",
    "Хоть и провел анализ оптимизаторов по офф документации $Keras$, я еще недостаточно зрел, чтобы полностью понять их механику.\n",
    "\n",
    "$Nadam$ и $Adam$ в данном случае победители. Но я бы лично ставил на Adam, потому что у него разница между трейном и тестом минимальна.\n",
    "\n",
    "$Ftrl$ вообще не туда. Видимо шаг стоит увеличить, раз он не выбрался из локального минимума, но я не могу с точностью утверждать.\n",
    "Более разреженных данных требует, видимо. Зато он гениально нашел здесь единицу: [7 2 1 0 4] => [1 1 1 1 1].\n",
    "\n",
    "Ладно, идем дальше."
   ]
  },
  {
   "cell_type": "markdown",
   "id": "4b3529c2",
   "metadata": {},
   "source": [
    "**2. АКТИВАЦИЯ**\n",
    "\n",
    "Далее я решил играться с функциями активации. Здесь нейросетка превратилась в еще более черный ящик. Подбираем комбинации опытным путем.\n",
    "\n",
    "Полностью relu: $0.0980$\n",
    "\n",
    "Полностью softmax: $0.7106$\n",
    "\n",
    "Полностью sigmoid: $0.9614$\n",
    "\n",
    "elu-relu-softmax: $0.9619$\n",
    "\n",
    "sigmoid-reLU-softmax: $0.9677$\n",
    "\n",
    "elu-elu-sigmoid: $0.9706$\n",
    "\n",
    "\n",
    "**ВЫВОДЫ:**\n",
    "\n",
    "Я только понял, что на выходном слое должна быть softmax или sigmoid, раз мы просчитываем вероятность. Первые два слоя - пальцем в небо."
   ]
  },
  {
   "cell_type": "markdown",
   "id": "f990e892",
   "metadata": {},
   "source": [
    "**3. БАТЧИ**\n",
    "\n",
    "Размер батча в разумных пределах существенно на метрику не влияет. \n",
    "\n",
    "Да, батчей должно быть достаточно для качества обучения.\n",
    "\n",
    "batch_size=300  ===>  $0.9564$\n",
    "\n",
    "batch_size=20   ===>  $0.9667$\n",
    "\n",
    "Ну и не слишком много, чтобы не тратить ресурсы без существенного выигрыша.\n",
    "\n",
    "batch_size=5   ===> 266s - accuracy: $0.9650$\n",
    "\n",
    "batch_size=30  ===> 46s - accuracy: $0.9689$"
   ]
  },
  {
   "cell_type": "markdown",
   "id": "df1e0ebf",
   "metadata": {},
   "source": [
    "**4. ЭПОХИ**\n",
    "\n",
    "epochs=5, accuracy: $0.9655$\n",
    "\n",
    "epochs=7, accuracy: $0.9743$\n",
    "\n",
    "epochs=10, accuracy: $0.9714$\n",
    "\n",
    "epochs=20, accuracy: $0.9740$\n",
    "\n",
    "График точности от эпох легко представить. С увеличением эпох трейн доходит до 0.992 и выше, но на тесте рост замедляется до прямой около 0.975. Оверфиттинг и в случае нейросетей несложно предсказать. Так что 7-10 эпох вполне хватит."
   ]
  },
  {
   "cell_type": "markdown",
   "id": "4154afd8",
   "metadata": {},
   "source": [
    "На этом я закончу."
   ]
  }
 ],
 "metadata": {
  "kernelspec": {
   "display_name": "Python 3 (ipykernel)",
   "language": "python",
   "name": "python3"
  },
  "language_info": {
   "codemirror_mode": {
    "name": "ipython",
    "version": 3
   },
   "file_extension": ".py",
   "mimetype": "text/x-python",
   "name": "python",
   "nbconvert_exporter": "python",
   "pygments_lexer": "ipython3",
   "version": "3.9.7"
  }
 },
 "nbformat": 4,
 "nbformat_minor": 5
}
